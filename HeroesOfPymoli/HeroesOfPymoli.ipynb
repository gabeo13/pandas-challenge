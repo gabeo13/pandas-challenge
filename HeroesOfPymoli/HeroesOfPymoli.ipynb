{
 "cells": [
  {
   "cell_type": "markdown",
   "metadata": {},
   "source": [
    "### Note\n",
    "* Instructions have been included for each segment. You do not have to follow them exactly, but they are included to help you think through the steps."
   ]
  },
  {
   "cell_type": "code",
   "execution_count": 1,
   "metadata": {},
   "outputs": [],
   "source": [
    "# Dependencies and Setup\n",
    "import pandas as pd\n",
    "\n",
    "# File to Load (Remember to Change These)\n",
    "file_to_load = \"Resources/purchase_data.csv\"\n",
    "\n",
    "# Read Purchasing File and store into Pandas data frame\n",
    "purchase_data = pd.read_csv(file_to_load)"
   ]
  },
  {
   "cell_type": "markdown",
   "metadata": {},
   "source": [
    "## Player Count"
   ]
  },
  {
   "cell_type": "markdown",
   "metadata": {},
   "source": [
    "* Display the total number of players\n"
   ]
  },
  {
   "cell_type": "code",
   "execution_count": 2,
   "metadata": {},
   "outputs": [
    {
     "name": "stdout",
     "output_type": "stream",
     "text": [
      "The total number of players is: 576\n"
     ]
    }
   ],
   "source": [
    "#Read csv data into primary dataframe\n",
    "df = pd.DataFrame(purchase_data)\n",
    "\n",
    "#Calculate and print total number of unique players \n",
    "ttlPlayers = df['SN'].nunique()\n",
    "print(f'The total number of players is: {ttlPlayers}')"
   ]
  },
  {
   "cell_type": "markdown",
   "metadata": {},
   "source": [
    "## Purchasing Analysis (Total)"
   ]
  },
  {
   "cell_type": "markdown",
   "metadata": {},
   "source": [
    "* Run basic calculations to obtain number of unique items, average price, etc.\n",
    "\n",
    "\n",
    "* Create a summary data frame to hold the results\n",
    "\n",
    "\n",
    "* Optional: give the displayed data cleaner formatting\n",
    "\n",
    "\n",
    "* Display the summary data frame\n"
   ]
  },
  {
   "cell_type": "code",
   "execution_count": 3,
   "metadata": {
    "scrolled": true
   },
   "outputs": [
    {
     "data": {
      "text/html": [
       "<style  type=\"text/css\" >\n",
       "</style><table id=\"T_f92e35ef_52d4_11eb_bb5a_782b46ed7c85\" ><thead>    <tr>        <th class=\"blank level0\" ></th>        <th class=\"col_heading level0 col0\" >Number of Unique Items</th>        <th class=\"col_heading level0 col1\" >Average Price</th>        <th class=\"col_heading level0 col2\" >Number of Purchases</th>        <th class=\"col_heading level0 col3\" >Total Revenue</th>    </tr></thead><tbody>\n",
       "                <tr>\n",
       "                        <th id=\"T_f92e35ef_52d4_11eb_bb5a_782b46ed7c85level0_row0\" class=\"row_heading level0 row0\" >0</th>\n",
       "                        <td id=\"T_f92e35ef_52d4_11eb_bb5a_782b46ed7c85row0_col0\" class=\"data row0 col0\" >179</td>\n",
       "                        <td id=\"T_f92e35ef_52d4_11eb_bb5a_782b46ed7c85row0_col1\" class=\"data row0 col1\" >$3.05</td>\n",
       "                        <td id=\"T_f92e35ef_52d4_11eb_bb5a_782b46ed7c85row0_col2\" class=\"data row0 col2\" >780</td>\n",
       "                        <td id=\"T_f92e35ef_52d4_11eb_bb5a_782b46ed7c85row0_col3\" class=\"data row0 col3\" >$2,379.77</td>\n",
       "            </tr>\n",
       "    </tbody></table>"
      ],
      "text/plain": [
       "<pandas.io.formats.style.Styler at 0x1275fb1b6d0>"
      ]
     },
     "execution_count": 3,
     "metadata": {},
     "output_type": "execute_result"
    }
   ],
   "source": [
    "# Caclulate number of unique items\n",
    "ttlItems = df['Item ID'].nunique()\n",
    "\n",
    "# Calculate average price\n",
    "avgPrice = df['Price'].mean()\n",
    "\n",
    "#Calculate total number of purchases\n",
    "ttlPurchases = df['Purchase ID'].count()\n",
    "\n",
    "#Calculate total revenue\n",
    "ttlRevenue = df['Price'].sum()\n",
    "\n",
    "#Combine general purchasing analysis components into a dataframe \n",
    "purAnalysis = pd.DataFrame({'Number of Unique Items': [ttlItems], 'Average Price': [avgPrice], \n",
    "                            'Number of Purchases': [ttlPurchases], 'Total Revenue': [ttlRevenue]})\n",
    "\n",
    "#Dataframe styling \n",
    "purAnalysis.style.format({'Average Price': \"${:.2f}\", 'Total Revenue': \"${:,.2f}\"})"
   ]
  },
  {
   "cell_type": "markdown",
   "metadata": {},
   "source": [
    "## Gender Demographics"
   ]
  },
  {
   "cell_type": "markdown",
   "metadata": {},
   "source": [
    "* Percentage and Count of Male Players\n",
    "\n",
    "\n",
    "* Percentage and Count of Female Players\n",
    "\n",
    "\n",
    "* Percentage and Count of Other / Non-Disclosed\n",
    "\n",
    "\n"
   ]
  },
  {
   "cell_type": "code",
   "execution_count": 4,
   "metadata": {},
   "outputs": [
    {
     "data": {
      "text/html": [
       "<style  type=\"text/css\" >\n",
       "</style><table id=\"T_ff485da3_52d4_11eb_9e1f_782b46ed7c85\" ><thead>    <tr>        <th class=\"blank level0\" ></th>        <th class=\"col_heading level0 col0\" >Total Count</th>        <th class=\"col_heading level0 col1\" >Percentage of Players</th>    </tr></thead><tbody>\n",
       "                <tr>\n",
       "                        <th id=\"T_ff485da3_52d4_11eb_9e1f_782b46ed7c85level0_row0\" class=\"row_heading level0 row0\" >Male</th>\n",
       "                        <td id=\"T_ff485da3_52d4_11eb_9e1f_782b46ed7c85row0_col0\" class=\"data row0 col0\" >484</td>\n",
       "                        <td id=\"T_ff485da3_52d4_11eb_9e1f_782b46ed7c85row0_col1\" class=\"data row0 col1\" >84.03%</td>\n",
       "            </tr>\n",
       "            <tr>\n",
       "                        <th id=\"T_ff485da3_52d4_11eb_9e1f_782b46ed7c85level0_row1\" class=\"row_heading level0 row1\" >Female</th>\n",
       "                        <td id=\"T_ff485da3_52d4_11eb_9e1f_782b46ed7c85row1_col0\" class=\"data row1 col0\" >81</td>\n",
       "                        <td id=\"T_ff485da3_52d4_11eb_9e1f_782b46ed7c85row1_col1\" class=\"data row1 col1\" >14.06%</td>\n",
       "            </tr>\n",
       "            <tr>\n",
       "                        <th id=\"T_ff485da3_52d4_11eb_9e1f_782b46ed7c85level0_row2\" class=\"row_heading level0 row2\" >Other / Non-Disclosed</th>\n",
       "                        <td id=\"T_ff485da3_52d4_11eb_9e1f_782b46ed7c85row2_col0\" class=\"data row2 col0\" >11</td>\n",
       "                        <td id=\"T_ff485da3_52d4_11eb_9e1f_782b46ed7c85row2_col1\" class=\"data row2 col1\" >1.91%</td>\n",
       "            </tr>\n",
       "    </tbody></table>"
      ],
      "text/plain": [
       "<pandas.io.formats.style.Styler at 0x1275dac07c0>"
      ]
     },
     "execution_count": 4,
     "metadata": {},
     "output_type": "execute_result"
    }
   ],
   "source": [
    "#Construct dataframe of each player with gender and drop duplicates of each player:gender record\n",
    "players = df[['SN','Gender','Age']].drop_duplicates()\n",
    "\n",
    "#Extract total gender count by gender from above dataframe\n",
    "gndrCount = players['Gender'].value_counts()\n",
    "\n",
    "#Calculate decimal percentage for each gender\n",
    "gndrPct = (gndrCount/ttlPlayers)\n",
    "\n",
    "#Build dataframe with gender counts and percentages\n",
    "gndrDemo = pd.DataFrame({'Total Count': gndrCount, 'Percentage of Players': gndrPct})\n",
    "\n",
    "#Dataframe styling and formating\n",
    "gndrDemo.style.format({'Percentage of Players' : \"{:.2%}\"})"
   ]
  },
  {
   "cell_type": "markdown",
   "metadata": {},
   "source": [
    "\n",
    "## Purchasing Analysis (Gender)"
   ]
  },
  {
   "cell_type": "markdown",
   "metadata": {},
   "source": [
    "* Run basic calculations to obtain purchase count, avg. purchase price, avg. purchase total per person etc. by gender\n",
    "\n",
    "\n",
    "\n",
    "\n",
    "* Create a summary data frame to hold the results\n",
    "\n",
    "\n",
    "* Optional: give the displayed data cleaner formatting\n",
    "\n",
    "\n",
    "* Display the summary data frame"
   ]
  },
  {
   "cell_type": "code",
   "execution_count": 5,
   "metadata": {},
   "outputs": [
    {
     "data": {
      "text/html": [
       "<style  type=\"text/css\" >\n",
       "</style><table id=\"T_01539eb9_52d5_11eb_8a47_782b46ed7c85\" ><thead>    <tr>        <th class=\"blank level0\" ></th>        <th class=\"col_heading level0 col0\" >Purchase Count</th>        <th class=\"col_heading level0 col1\" >Average Purchase Price</th>        <th class=\"col_heading level0 col2\" >Total Purchase Value</th>        <th class=\"col_heading level0 col3\" >Average Total Purchase Per Person</th>    </tr>    <tr>        <th class=\"index_name level0\" >Gender</th>        <th class=\"blank\" ></th>        <th class=\"blank\" ></th>        <th class=\"blank\" ></th>        <th class=\"blank\" ></th>    </tr></thead><tbody>\n",
       "                <tr>\n",
       "                        <th id=\"T_01539eb9_52d5_11eb_8a47_782b46ed7c85level0_row0\" class=\"row_heading level0 row0\" >Female</th>\n",
       "                        <td id=\"T_01539eb9_52d5_11eb_8a47_782b46ed7c85row0_col0\" class=\"data row0 col0\" >113</td>\n",
       "                        <td id=\"T_01539eb9_52d5_11eb_8a47_782b46ed7c85row0_col1\" class=\"data row0 col1\" >$3.20</td>\n",
       "                        <td id=\"T_01539eb9_52d5_11eb_8a47_782b46ed7c85row0_col2\" class=\"data row0 col2\" >$361.94</td>\n",
       "                        <td id=\"T_01539eb9_52d5_11eb_8a47_782b46ed7c85row0_col3\" class=\"data row0 col3\" >$4.47</td>\n",
       "            </tr>\n",
       "            <tr>\n",
       "                        <th id=\"T_01539eb9_52d5_11eb_8a47_782b46ed7c85level0_row1\" class=\"row_heading level0 row1\" >Male</th>\n",
       "                        <td id=\"T_01539eb9_52d5_11eb_8a47_782b46ed7c85row1_col0\" class=\"data row1 col0\" >652</td>\n",
       "                        <td id=\"T_01539eb9_52d5_11eb_8a47_782b46ed7c85row1_col1\" class=\"data row1 col1\" >$3.02</td>\n",
       "                        <td id=\"T_01539eb9_52d5_11eb_8a47_782b46ed7c85row1_col2\" class=\"data row1 col2\" >$1,967.64</td>\n",
       "                        <td id=\"T_01539eb9_52d5_11eb_8a47_782b46ed7c85row1_col3\" class=\"data row1 col3\" >$4.07</td>\n",
       "            </tr>\n",
       "            <tr>\n",
       "                        <th id=\"T_01539eb9_52d5_11eb_8a47_782b46ed7c85level0_row2\" class=\"row_heading level0 row2\" >Other / Non-Disclosed</th>\n",
       "                        <td id=\"T_01539eb9_52d5_11eb_8a47_782b46ed7c85row2_col0\" class=\"data row2 col0\" >15</td>\n",
       "                        <td id=\"T_01539eb9_52d5_11eb_8a47_782b46ed7c85row2_col1\" class=\"data row2 col1\" >$3.35</td>\n",
       "                        <td id=\"T_01539eb9_52d5_11eb_8a47_782b46ed7c85row2_col2\" class=\"data row2 col2\" >$50.19</td>\n",
       "                        <td id=\"T_01539eb9_52d5_11eb_8a47_782b46ed7c85row2_col3\" class=\"data row2 col3\" >$4.56</td>\n",
       "            </tr>\n",
       "    </tbody></table>"
      ],
      "text/plain": [
       "<pandas.io.formats.style.Styler at 0x1275daa5a60>"
      ]
     },
     "execution_count": 5,
     "metadata": {},
     "output_type": "execute_result"
    }
   ],
   "source": [
    "#Group dataframe by gender and count records by gender\n",
    "countBygender = df.groupby(['Gender']).count()\n",
    "\n",
    "#Assign gender grouped purchase count to a variable\n",
    "purchaseCountbyGender = countBygender['Purchase ID']\n",
    "\n",
    "#Group dataframe by gender and calculate average purchase price by gender\n",
    "avgBygender = df.groupby(['Gender']).mean()\n",
    "\n",
    "#Assign gender grouped price to a variable\n",
    "avgPricebyGender = avgBygender['Price']\n",
    "\n",
    "#Group dataframe by gender and calcluate total purchase value by gender\n",
    "ttlByGender = df.groupby(['Gender']).sum()\n",
    "\n",
    "#Assign gender grouped total purchase value to a variable\n",
    "ttlPricebyGender = ttlByGender['Price']\n",
    "\n",
    "#Average total purchase per person and assign to a variable\n",
    "avgTtlperPerson = ttlPricebyGender/gndrCount\n",
    " \n",
    "#Build dataframe with gender grouped calculations\n",
    "purAnalysisbyGender = pd.DataFrame({'Purchase Count': purchaseCountbyGender,\n",
    "                                   'Average Purchase Price': avgPricebyGender,\n",
    "                                   'Total Purchase Value': ttlPricebyGender,\n",
    "                                   'Average Total Purchase Per Person': avgTtlperPerson})\n",
    "\n",
    "#Dataframe styling and formatting\n",
    "purAnalysisbyGender.style.format({'Average Purchase Price': \"${:.2f}\", 'Total Purchase Value': \"${:,.2f}\",\n",
    "                                 'Average Total Purchase Per Person': \"${:.2f}\"})"
   ]
  },
  {
   "cell_type": "markdown",
   "metadata": {},
   "source": [
    "## Age Demographics"
   ]
  },
  {
   "cell_type": "markdown",
   "metadata": {},
   "source": [
    "* Establish bins for ages\n",
    "\n",
    "\n",
    "* Categorize the existing players using the age bins. Hint: use pd.cut()\n",
    "\n",
    "\n",
    "* Calculate the numbers and percentages by age group\n",
    "\n",
    "\n",
    "* Create a summary data frame to hold the results\n",
    "\n",
    "\n",
    "* Optional: round the percentage column to two decimal points\n",
    "\n",
    "\n",
    "* Display Age Demographics Table\n"
   ]
  },
  {
   "cell_type": "code",
   "execution_count": 6,
   "metadata": {},
   "outputs": [
    {
     "data": {
      "text/html": [
       "<style  type=\"text/css\" >\n",
       "</style><table id=\"T_058ed3bb_52d5_11eb_869f_782b46ed7c85\" ><thead>    <tr>        <th class=\"blank level0\" ></th>        <th class=\"col_heading level0 col0\" >Total Count</th>        <th class=\"col_heading level0 col1\" >Percentage of Players</th>    </tr></thead><tbody>\n",
       "                <tr>\n",
       "                        <th id=\"T_058ed3bb_52d5_11eb_869f_782b46ed7c85level0_row0\" class=\"row_heading level0 row0\" ><10</th>\n",
       "                        <td id=\"T_058ed3bb_52d5_11eb_869f_782b46ed7c85row0_col0\" class=\"data row0 col0\" >17</td>\n",
       "                        <td id=\"T_058ed3bb_52d5_11eb_869f_782b46ed7c85row0_col1\" class=\"data row0 col1\" >2.95%</td>\n",
       "            </tr>\n",
       "            <tr>\n",
       "                        <th id=\"T_058ed3bb_52d5_11eb_869f_782b46ed7c85level0_row1\" class=\"row_heading level0 row1\" >10-14</th>\n",
       "                        <td id=\"T_058ed3bb_52d5_11eb_869f_782b46ed7c85row1_col0\" class=\"data row1 col0\" >22</td>\n",
       "                        <td id=\"T_058ed3bb_52d5_11eb_869f_782b46ed7c85row1_col1\" class=\"data row1 col1\" >3.82%</td>\n",
       "            </tr>\n",
       "            <tr>\n",
       "                        <th id=\"T_058ed3bb_52d5_11eb_869f_782b46ed7c85level0_row2\" class=\"row_heading level0 row2\" >15-19</th>\n",
       "                        <td id=\"T_058ed3bb_52d5_11eb_869f_782b46ed7c85row2_col0\" class=\"data row2 col0\" >107</td>\n",
       "                        <td id=\"T_058ed3bb_52d5_11eb_869f_782b46ed7c85row2_col1\" class=\"data row2 col1\" >18.58%</td>\n",
       "            </tr>\n",
       "            <tr>\n",
       "                        <th id=\"T_058ed3bb_52d5_11eb_869f_782b46ed7c85level0_row3\" class=\"row_heading level0 row3\" >20-24</th>\n",
       "                        <td id=\"T_058ed3bb_52d5_11eb_869f_782b46ed7c85row3_col0\" class=\"data row3 col0\" >258</td>\n",
       "                        <td id=\"T_058ed3bb_52d5_11eb_869f_782b46ed7c85row3_col1\" class=\"data row3 col1\" >44.79%</td>\n",
       "            </tr>\n",
       "            <tr>\n",
       "                        <th id=\"T_058ed3bb_52d5_11eb_869f_782b46ed7c85level0_row4\" class=\"row_heading level0 row4\" >25-29</th>\n",
       "                        <td id=\"T_058ed3bb_52d5_11eb_869f_782b46ed7c85row4_col0\" class=\"data row4 col0\" >77</td>\n",
       "                        <td id=\"T_058ed3bb_52d5_11eb_869f_782b46ed7c85row4_col1\" class=\"data row4 col1\" >13.37%</td>\n",
       "            </tr>\n",
       "            <tr>\n",
       "                        <th id=\"T_058ed3bb_52d5_11eb_869f_782b46ed7c85level0_row5\" class=\"row_heading level0 row5\" >30-34</th>\n",
       "                        <td id=\"T_058ed3bb_52d5_11eb_869f_782b46ed7c85row5_col0\" class=\"data row5 col0\" >52</td>\n",
       "                        <td id=\"T_058ed3bb_52d5_11eb_869f_782b46ed7c85row5_col1\" class=\"data row5 col1\" >9.03%</td>\n",
       "            </tr>\n",
       "            <tr>\n",
       "                        <th id=\"T_058ed3bb_52d5_11eb_869f_782b46ed7c85level0_row6\" class=\"row_heading level0 row6\" >35-39</th>\n",
       "                        <td id=\"T_058ed3bb_52d5_11eb_869f_782b46ed7c85row6_col0\" class=\"data row6 col0\" >31</td>\n",
       "                        <td id=\"T_058ed3bb_52d5_11eb_869f_782b46ed7c85row6_col1\" class=\"data row6 col1\" >5.38%</td>\n",
       "            </tr>\n",
       "            <tr>\n",
       "                        <th id=\"T_058ed3bb_52d5_11eb_869f_782b46ed7c85level0_row7\" class=\"row_heading level0 row7\" >40+</th>\n",
       "                        <td id=\"T_058ed3bb_52d5_11eb_869f_782b46ed7c85row7_col0\" class=\"data row7 col0\" >12</td>\n",
       "                        <td id=\"T_058ed3bb_52d5_11eb_869f_782b46ed7c85row7_col1\" class=\"data row7 col1\" >2.08%</td>\n",
       "            </tr>\n",
       "    </tbody></table>"
      ],
      "text/plain": [
       "<pandas.io.formats.style.Styler at 0x1275dac51c0>"
      ]
     },
     "execution_count": 6,
     "metadata": {},
     "output_type": "execute_result"
    }
   ],
   "source": [
    "#Assign bin labels to a variable\n",
    "ageLabels = ['<10', '10-14', '15-19','20-24','25-29','30-34','35-39','40+']\n",
    "\n",
    "#Assign bins to a variable\n",
    "ageBins = [0,9,14,19,24,29,34,39,100]\n",
    "\n",
    "#Generate and add \"Age Bins\" column to data frame\n",
    "players['Age Bins'] = pd.cut(players['Age'], bins=ageBins, labels=ageLabels)\n",
    "\n",
    "#Generate total players by age bin series\n",
    "ttlAgecount = players['Age Bins'].value_counts(sort=False)\n",
    "\n",
    "#Generate decimal percentage total players by age bin series\n",
    "pctAgeCount = ttlAgecount/ttlPlayers\n",
    "\n",
    "#Construct dataframe with total players and percentage by age bin\n",
    "ageDemo_df = pd.DataFrame({'Total Count': ttlAgecount, 'Percentage of Players': pctAgeCount})\n",
    "\n",
    "#Dataframe styling and formatting \n",
    "ageDemo_df.style.format({'Percentage of Players' : \"{:.2%}\"})"
   ]
  },
  {
   "cell_type": "markdown",
   "metadata": {},
   "source": [
    "## Purchasing Analysis (Age)"
   ]
  },
  {
   "cell_type": "markdown",
   "metadata": {},
   "source": [
    "* Bin the purchase_data data frame by age\n",
    "\n",
    "\n",
    "* Run basic calculations to obtain purchase count, avg. purchase price, avg. purchase total per person etc. in the table below\n",
    "\n",
    "\n",
    "* Create a summary data frame to hold the results\n",
    "\n",
    "\n",
    "* Optional: give the displayed data cleaner formatting\n",
    "\n",
    "\n",
    "* Display the summary data frame"
   ]
  },
  {
   "cell_type": "code",
   "execution_count": 7,
   "metadata": {},
   "outputs": [
    {
     "data": {
      "text/html": [
       "<style  type=\"text/css\" >\n",
       "</style><table id=\"T_08999f94_52d5_11eb_9bbe_782b46ed7c85\" ><thead>    <tr>        <th class=\"blank level0\" ></th>        <th class=\"col_heading level0 col0\" >Purchase Count</th>        <th class=\"col_heading level0 col1\" >Average Purchase Price</th>        <th class=\"col_heading level0 col2\" >Total Purchase Value</th>        <th class=\"col_heading level0 col3\" >Avg Total Purchase Per Person</th>    </tr>    <tr>        <th class=\"index_name level0\" >Age Bins</th>        <th class=\"blank\" ></th>        <th class=\"blank\" ></th>        <th class=\"blank\" ></th>        <th class=\"blank\" ></th>    </tr></thead><tbody>\n",
       "                <tr>\n",
       "                        <th id=\"T_08999f94_52d5_11eb_9bbe_782b46ed7c85level0_row0\" class=\"row_heading level0 row0\" ><10</th>\n",
       "                        <td id=\"T_08999f94_52d5_11eb_9bbe_782b46ed7c85row0_col0\" class=\"data row0 col0\" >23</td>\n",
       "                        <td id=\"T_08999f94_52d5_11eb_9bbe_782b46ed7c85row0_col1\" class=\"data row0 col1\" >$3.35</td>\n",
       "                        <td id=\"T_08999f94_52d5_11eb_9bbe_782b46ed7c85row0_col2\" class=\"data row0 col2\" >$77.13</td>\n",
       "                        <td id=\"T_08999f94_52d5_11eb_9bbe_782b46ed7c85row0_col3\" class=\"data row0 col3\" >$4.54</td>\n",
       "            </tr>\n",
       "            <tr>\n",
       "                        <th id=\"T_08999f94_52d5_11eb_9bbe_782b46ed7c85level0_row1\" class=\"row_heading level0 row1\" >10-14</th>\n",
       "                        <td id=\"T_08999f94_52d5_11eb_9bbe_782b46ed7c85row1_col0\" class=\"data row1 col0\" >28</td>\n",
       "                        <td id=\"T_08999f94_52d5_11eb_9bbe_782b46ed7c85row1_col1\" class=\"data row1 col1\" >$2.96</td>\n",
       "                        <td id=\"T_08999f94_52d5_11eb_9bbe_782b46ed7c85row1_col2\" class=\"data row1 col2\" >$82.78</td>\n",
       "                        <td id=\"T_08999f94_52d5_11eb_9bbe_782b46ed7c85row1_col3\" class=\"data row1 col3\" >$3.76</td>\n",
       "            </tr>\n",
       "            <tr>\n",
       "                        <th id=\"T_08999f94_52d5_11eb_9bbe_782b46ed7c85level0_row2\" class=\"row_heading level0 row2\" >15-19</th>\n",
       "                        <td id=\"T_08999f94_52d5_11eb_9bbe_782b46ed7c85row2_col0\" class=\"data row2 col0\" >136</td>\n",
       "                        <td id=\"T_08999f94_52d5_11eb_9bbe_782b46ed7c85row2_col1\" class=\"data row2 col1\" >$3.04</td>\n",
       "                        <td id=\"T_08999f94_52d5_11eb_9bbe_782b46ed7c85row2_col2\" class=\"data row2 col2\" >$412.89</td>\n",
       "                        <td id=\"T_08999f94_52d5_11eb_9bbe_782b46ed7c85row2_col3\" class=\"data row2 col3\" >$3.86</td>\n",
       "            </tr>\n",
       "            <tr>\n",
       "                        <th id=\"T_08999f94_52d5_11eb_9bbe_782b46ed7c85level0_row3\" class=\"row_heading level0 row3\" >20-24</th>\n",
       "                        <td id=\"T_08999f94_52d5_11eb_9bbe_782b46ed7c85row3_col0\" class=\"data row3 col0\" >365</td>\n",
       "                        <td id=\"T_08999f94_52d5_11eb_9bbe_782b46ed7c85row3_col1\" class=\"data row3 col1\" >$3.05</td>\n",
       "                        <td id=\"T_08999f94_52d5_11eb_9bbe_782b46ed7c85row3_col2\" class=\"data row3 col2\" >$1,114.06</td>\n",
       "                        <td id=\"T_08999f94_52d5_11eb_9bbe_782b46ed7c85row3_col3\" class=\"data row3 col3\" >$4.32</td>\n",
       "            </tr>\n",
       "            <tr>\n",
       "                        <th id=\"T_08999f94_52d5_11eb_9bbe_782b46ed7c85level0_row4\" class=\"row_heading level0 row4\" >25-29</th>\n",
       "                        <td id=\"T_08999f94_52d5_11eb_9bbe_782b46ed7c85row4_col0\" class=\"data row4 col0\" >101</td>\n",
       "                        <td id=\"T_08999f94_52d5_11eb_9bbe_782b46ed7c85row4_col1\" class=\"data row4 col1\" >$2.90</td>\n",
       "                        <td id=\"T_08999f94_52d5_11eb_9bbe_782b46ed7c85row4_col2\" class=\"data row4 col2\" >$293.00</td>\n",
       "                        <td id=\"T_08999f94_52d5_11eb_9bbe_782b46ed7c85row4_col3\" class=\"data row4 col3\" >$3.81</td>\n",
       "            </tr>\n",
       "            <tr>\n",
       "                        <th id=\"T_08999f94_52d5_11eb_9bbe_782b46ed7c85level0_row5\" class=\"row_heading level0 row5\" >30-34</th>\n",
       "                        <td id=\"T_08999f94_52d5_11eb_9bbe_782b46ed7c85row5_col0\" class=\"data row5 col0\" >73</td>\n",
       "                        <td id=\"T_08999f94_52d5_11eb_9bbe_782b46ed7c85row5_col1\" class=\"data row5 col1\" >$2.93</td>\n",
       "                        <td id=\"T_08999f94_52d5_11eb_9bbe_782b46ed7c85row5_col2\" class=\"data row5 col2\" >$214.00</td>\n",
       "                        <td id=\"T_08999f94_52d5_11eb_9bbe_782b46ed7c85row5_col3\" class=\"data row5 col3\" >$4.12</td>\n",
       "            </tr>\n",
       "            <tr>\n",
       "                        <th id=\"T_08999f94_52d5_11eb_9bbe_782b46ed7c85level0_row6\" class=\"row_heading level0 row6\" >35-39</th>\n",
       "                        <td id=\"T_08999f94_52d5_11eb_9bbe_782b46ed7c85row6_col0\" class=\"data row6 col0\" >41</td>\n",
       "                        <td id=\"T_08999f94_52d5_11eb_9bbe_782b46ed7c85row6_col1\" class=\"data row6 col1\" >$3.60</td>\n",
       "                        <td id=\"T_08999f94_52d5_11eb_9bbe_782b46ed7c85row6_col2\" class=\"data row6 col2\" >$147.67</td>\n",
       "                        <td id=\"T_08999f94_52d5_11eb_9bbe_782b46ed7c85row6_col3\" class=\"data row6 col3\" >$4.76</td>\n",
       "            </tr>\n",
       "            <tr>\n",
       "                        <th id=\"T_08999f94_52d5_11eb_9bbe_782b46ed7c85level0_row7\" class=\"row_heading level0 row7\" >40+</th>\n",
       "                        <td id=\"T_08999f94_52d5_11eb_9bbe_782b46ed7c85row7_col0\" class=\"data row7 col0\" >13</td>\n",
       "                        <td id=\"T_08999f94_52d5_11eb_9bbe_782b46ed7c85row7_col1\" class=\"data row7 col1\" >$2.94</td>\n",
       "                        <td id=\"T_08999f94_52d5_11eb_9bbe_782b46ed7c85row7_col2\" class=\"data row7 col2\" >$38.24</td>\n",
       "                        <td id=\"T_08999f94_52d5_11eb_9bbe_782b46ed7c85row7_col3\" class=\"data row7 col3\" >$3.19</td>\n",
       "            </tr>\n",
       "    </tbody></table>"
      ],
      "text/plain": [
       "<pandas.io.formats.style.Styler at 0x12760b38430>"
      ]
     },
     "execution_count": 7,
     "metadata": {},
     "output_type": "execute_result"
    }
   ],
   "source": [
    "#Assign bin labels to a variable\n",
    "ageLabels = ['<10', '10-14', '15-19','20-24','25-29','30-34','35-39','40+']\n",
    "\n",
    "#Assign bins to a variable\n",
    "ageBins = [0,9,14,19,24,29,34,39,100]\n",
    "\n",
    "#Generate and add \"Age Bins\" column to data frame\n",
    "df['Age Bins'] = pd.cut(df['Age'], bins=ageBins, labels=ageLabels)\n",
    "\n",
    "#Generate number of purchases by age bin series\n",
    "purchaseCountbyAge = df.groupby(['Age Bins'])['Purchase ID'].count()\n",
    "\n",
    "#Generate average purchase price by age bin series\n",
    "averagePricebyAge = df.groupby(['Age Bins'])['Price'].mean()\n",
    "\n",
    "#Generate total revenue by age bin series\n",
    "ttlRevenuebyAge = df.groupby(['Age Bins'])['Price'].sum()\n",
    "\n",
    "#Generate average total purchase per person by age bin\n",
    "avgRevperPersonbyAge = ttlRevenuebyAge/ttlAgecount\n",
    "\n",
    "#Construct purchase analysis by age data frame\n",
    "agePurch_df = pd.DataFrame({'Purchase Count':purchaseCountbyAge,'Average Purchase Price':averagePricebyAge,\n",
    "                            'Total Purchase Value':ttlRevenuebyAge,'Avg Total Purchase Per Person':avgRevperPersonbyAge})\n",
    "\n",
    "#Dataframe styling and formatting\n",
    "agePurch_df.style.format({'Average Purchase Price': \"${:.2f}\", 'Total Purchase Value': \"${:,.2f}\",\n",
    "                                 'Avg Total Purchase Per Person': \"${:.2f}\"})"
   ]
  },
  {
   "cell_type": "markdown",
   "metadata": {},
   "source": [
    "## Top Spenders"
   ]
  },
  {
   "cell_type": "markdown",
   "metadata": {},
   "source": [
    "* Run basic calculations to obtain the results in the table below\n",
    "\n",
    "\n",
    "* Create a summary data frame to hold the results\n",
    "\n",
    "\n",
    "* Sort the total purchase value column in descending order\n",
    "\n",
    "\n",
    "* Optional: give the displayed data cleaner formatting\n",
    "\n",
    "\n",
    "* Display a preview of the summary data frame\n",
    "\n"
   ]
  },
  {
   "cell_type": "code",
   "execution_count": 8,
   "metadata": {},
   "outputs": [
    {
     "data": {
      "text/html": [
       "<style  type=\"text/css\" >\n",
       "</style><table id=\"T_0c2e5e36_52d5_11eb_b4d6_782b46ed7c85\" ><thead>    <tr>        <th class=\"blank level0\" ></th>        <th class=\"col_heading level0 col0\" >Purchase Count</th>        <th class=\"col_heading level0 col1\" >Average Purchase Price</th>        <th class=\"col_heading level0 col2\" >Total Purchase Value</th>    </tr>    <tr>        <th class=\"index_name level0\" >SN</th>        <th class=\"blank\" ></th>        <th class=\"blank\" ></th>        <th class=\"blank\" ></th>    </tr></thead><tbody>\n",
       "                <tr>\n",
       "                        <th id=\"T_0c2e5e36_52d5_11eb_b4d6_782b46ed7c85level0_row0\" class=\"row_heading level0 row0\" >Lisosia93</th>\n",
       "                        <td id=\"T_0c2e5e36_52d5_11eb_b4d6_782b46ed7c85row0_col0\" class=\"data row0 col0\" >5</td>\n",
       "                        <td id=\"T_0c2e5e36_52d5_11eb_b4d6_782b46ed7c85row0_col1\" class=\"data row0 col1\" >$3.79</td>\n",
       "                        <td id=\"T_0c2e5e36_52d5_11eb_b4d6_782b46ed7c85row0_col2\" class=\"data row0 col2\" >$18.96</td>\n",
       "            </tr>\n",
       "            <tr>\n",
       "                        <th id=\"T_0c2e5e36_52d5_11eb_b4d6_782b46ed7c85level0_row1\" class=\"row_heading level0 row1\" >Idastidru52</th>\n",
       "                        <td id=\"T_0c2e5e36_52d5_11eb_b4d6_782b46ed7c85row1_col0\" class=\"data row1 col0\" >4</td>\n",
       "                        <td id=\"T_0c2e5e36_52d5_11eb_b4d6_782b46ed7c85row1_col1\" class=\"data row1 col1\" >$3.86</td>\n",
       "                        <td id=\"T_0c2e5e36_52d5_11eb_b4d6_782b46ed7c85row1_col2\" class=\"data row1 col2\" >$15.45</td>\n",
       "            </tr>\n",
       "            <tr>\n",
       "                        <th id=\"T_0c2e5e36_52d5_11eb_b4d6_782b46ed7c85level0_row2\" class=\"row_heading level0 row2\" >Chamjask73</th>\n",
       "                        <td id=\"T_0c2e5e36_52d5_11eb_b4d6_782b46ed7c85row2_col0\" class=\"data row2 col0\" >3</td>\n",
       "                        <td id=\"T_0c2e5e36_52d5_11eb_b4d6_782b46ed7c85row2_col1\" class=\"data row2 col1\" >$4.61</td>\n",
       "                        <td id=\"T_0c2e5e36_52d5_11eb_b4d6_782b46ed7c85row2_col2\" class=\"data row2 col2\" >$13.83</td>\n",
       "            </tr>\n",
       "            <tr>\n",
       "                        <th id=\"T_0c2e5e36_52d5_11eb_b4d6_782b46ed7c85level0_row3\" class=\"row_heading level0 row3\" >Iral74</th>\n",
       "                        <td id=\"T_0c2e5e36_52d5_11eb_b4d6_782b46ed7c85row3_col0\" class=\"data row3 col0\" >4</td>\n",
       "                        <td id=\"T_0c2e5e36_52d5_11eb_b4d6_782b46ed7c85row3_col1\" class=\"data row3 col1\" >$3.40</td>\n",
       "                        <td id=\"T_0c2e5e36_52d5_11eb_b4d6_782b46ed7c85row3_col2\" class=\"data row3 col2\" >$13.62</td>\n",
       "            </tr>\n",
       "            <tr>\n",
       "                        <th id=\"T_0c2e5e36_52d5_11eb_b4d6_782b46ed7c85level0_row4\" class=\"row_heading level0 row4\" >Iskadarya95</th>\n",
       "                        <td id=\"T_0c2e5e36_52d5_11eb_b4d6_782b46ed7c85row4_col0\" class=\"data row4 col0\" >3</td>\n",
       "                        <td id=\"T_0c2e5e36_52d5_11eb_b4d6_782b46ed7c85row4_col1\" class=\"data row4 col1\" >$4.37</td>\n",
       "                        <td id=\"T_0c2e5e36_52d5_11eb_b4d6_782b46ed7c85row4_col2\" class=\"data row4 col2\" >$13.10</td>\n",
       "            </tr>\n",
       "    </tbody></table>"
      ],
      "text/plain": [
       "<pandas.io.formats.style.Styler at 0x1275fb1b940>"
      ]
     },
     "execution_count": 8,
     "metadata": {},
     "output_type": "execute_result"
    }
   ],
   "source": [
    "#Purchase count by screen name to a variable\n",
    "purchCountbySN = df.groupby(['SN'])['Purchase ID'].count()\n",
    "\n",
    "#Average purchase price by screen to a variable\n",
    "avgPurchbySN = df.groupby(['SN'])['Price'].mean()\n",
    "\n",
    "#Total purchased value by screen name to a variable\n",
    "ttlPurchbySN = df.groupby(['SN'])['Price'].sum()\n",
    "\n",
    "#Construct top spenders dataframe and sort on total purchased value descending\n",
    "topSpenders = pd.DataFrame({'Purchase Count': purchCountbySN,'Average Purchase Price':avgPurchbySN,\n",
    "                           'Total Purchase Value':ttlPurchbySN}).sort_values('Total Purchase Value',\n",
    "                                                                            ascending=False)\n",
    "#Pull top 5 rows into dataframe for clean up and display\n",
    "topFiveSpenders = topSpenders.iloc[:5]\n",
    "\n",
    "#Dataframe styling and fromatting\n",
    "topFiveSpenders.style.format({'Average Purchase Price': \"${:.2f}\", 'Total Purchase Value': \"${:,.2f}\"})"
   ]
  },
  {
   "cell_type": "markdown",
   "metadata": {},
   "source": [
    "## Most Popular Items"
   ]
  },
  {
   "cell_type": "markdown",
   "metadata": {},
   "source": [
    "* Retrieve the Item ID, Item Name, and Item Price columns\n",
    "\n",
    "\n",
    "* Group by Item ID and Item Name. Perform calculations to obtain purchase count, average item price, and total purchase value\n",
    "\n",
    "\n",
    "* Create a summary data frame to hold the results\n",
    "\n",
    "\n",
    "* Sort the purchase count column in descending order\n",
    "\n",
    "\n",
    "* Optional: give the displayed data cleaner formatting\n",
    "\n",
    "\n",
    "* Display a preview of the summary data frame\n",
    "\n"
   ]
  },
  {
   "cell_type": "code",
   "execution_count": 9,
   "metadata": {},
   "outputs": [
    {
     "data": {
      "text/html": [
       "<style  type=\"text/css\" >\n",
       "</style><table id=\"T_109c65b3_52d5_11eb_8ced_782b46ed7c85\" ><thead>    <tr>        <th class=\"blank\" ></th>        <th class=\"blank level0\" ></th>        <th class=\"col_heading level0 col0\" >Purchase Count</th>        <th class=\"col_heading level0 col1\" >Item Price</th>        <th class=\"col_heading level0 col2\" >Total Purchase Value</th>    </tr>    <tr>        <th class=\"index_name level0\" >Item ID</th>        <th class=\"index_name level1\" >Item Name</th>        <th class=\"blank\" ></th>        <th class=\"blank\" ></th>        <th class=\"blank\" ></th>    </tr></thead><tbody>\n",
       "                <tr>\n",
       "                        <th id=\"T_109c65b3_52d5_11eb_8ced_782b46ed7c85level0_row0\" class=\"row_heading level0 row0\" >92</th>\n",
       "                        <th id=\"T_109c65b3_52d5_11eb_8ced_782b46ed7c85level1_row0\" class=\"row_heading level1 row0\" >Final Critic</th>\n",
       "                        <td id=\"T_109c65b3_52d5_11eb_8ced_782b46ed7c85row0_col0\" class=\"data row0 col0\" >13</td>\n",
       "                        <td id=\"T_109c65b3_52d5_11eb_8ced_782b46ed7c85row0_col1\" class=\"data row0 col1\" >$4.61</td>\n",
       "                        <td id=\"T_109c65b3_52d5_11eb_8ced_782b46ed7c85row0_col2\" class=\"data row0 col2\" >$59.99</td>\n",
       "            </tr>\n",
       "            <tr>\n",
       "                        <th id=\"T_109c65b3_52d5_11eb_8ced_782b46ed7c85level0_row1\" class=\"row_heading level0 row1\" >178</th>\n",
       "                        <th id=\"T_109c65b3_52d5_11eb_8ced_782b46ed7c85level1_row1\" class=\"row_heading level1 row1\" >Oathbreaker, Last Hope of the Breaking Storm</th>\n",
       "                        <td id=\"T_109c65b3_52d5_11eb_8ced_782b46ed7c85row1_col0\" class=\"data row1 col0\" >12</td>\n",
       "                        <td id=\"T_109c65b3_52d5_11eb_8ced_782b46ed7c85row1_col1\" class=\"data row1 col1\" >$4.23</td>\n",
       "                        <td id=\"T_109c65b3_52d5_11eb_8ced_782b46ed7c85row1_col2\" class=\"data row1 col2\" >$50.76</td>\n",
       "            </tr>\n",
       "            <tr>\n",
       "                        <th id=\"T_109c65b3_52d5_11eb_8ced_782b46ed7c85level0_row2\" class=\"row_heading level0 row2\" >145</th>\n",
       "                        <th id=\"T_109c65b3_52d5_11eb_8ced_782b46ed7c85level1_row2\" class=\"row_heading level1 row2\" >Fiery Glass Crusader</th>\n",
       "                        <td id=\"T_109c65b3_52d5_11eb_8ced_782b46ed7c85row2_col0\" class=\"data row2 col0\" >9</td>\n",
       "                        <td id=\"T_109c65b3_52d5_11eb_8ced_782b46ed7c85row2_col1\" class=\"data row2 col1\" >$4.58</td>\n",
       "                        <td id=\"T_109c65b3_52d5_11eb_8ced_782b46ed7c85row2_col2\" class=\"data row2 col2\" >$41.22</td>\n",
       "            </tr>\n",
       "            <tr>\n",
       "                        <th id=\"T_109c65b3_52d5_11eb_8ced_782b46ed7c85level0_row3\" class=\"row_heading level0 row3\" >132</th>\n",
       "                        <th id=\"T_109c65b3_52d5_11eb_8ced_782b46ed7c85level1_row3\" class=\"row_heading level1 row3\" >Persuasion</th>\n",
       "                        <td id=\"T_109c65b3_52d5_11eb_8ced_782b46ed7c85row3_col0\" class=\"data row3 col0\" >9</td>\n",
       "                        <td id=\"T_109c65b3_52d5_11eb_8ced_782b46ed7c85row3_col1\" class=\"data row3 col1\" >$3.22</td>\n",
       "                        <td id=\"T_109c65b3_52d5_11eb_8ced_782b46ed7c85row3_col2\" class=\"data row3 col2\" >$28.99</td>\n",
       "            </tr>\n",
       "            <tr>\n",
       "                        <th id=\"T_109c65b3_52d5_11eb_8ced_782b46ed7c85level0_row4\" class=\"row_heading level0 row4\" >108</th>\n",
       "                        <th id=\"T_109c65b3_52d5_11eb_8ced_782b46ed7c85level1_row4\" class=\"row_heading level1 row4\" >Extraction, Quickblade Of Trembling Hands</th>\n",
       "                        <td id=\"T_109c65b3_52d5_11eb_8ced_782b46ed7c85row4_col0\" class=\"data row4 col0\" >9</td>\n",
       "                        <td id=\"T_109c65b3_52d5_11eb_8ced_782b46ed7c85row4_col1\" class=\"data row4 col1\" >$3.53</td>\n",
       "                        <td id=\"T_109c65b3_52d5_11eb_8ced_782b46ed7c85row4_col2\" class=\"data row4 col2\" >$31.77</td>\n",
       "            </tr>\n",
       "    </tbody></table>"
      ],
      "text/plain": [
       "<pandas.io.formats.style.Styler at 0x12760bb79a0>"
      ]
     },
     "execution_count": 9,
     "metadata": {},
     "output_type": "execute_result"
    }
   ],
   "source": [
    "#Purchase count series by item id and item name\n",
    "itemCountbyID = df.groupby(['Item ID', 'Item Name'])['Purchase ID'].count()\n",
    "\n",
    "#Assign item price by item id and item name to a series variable\n",
    "itemPrice = df.groupby(['Item ID', 'Item Name'])['Price'].mean()\n",
    "\n",
    "#Assing total purchase value by item id and item name to a series variable\n",
    "itemTotal = df.groupby(['Item ID', 'Item Name'])['Price'].sum()\n",
    "\n",
    "#Construct most popular items dataframe sorted on purchase count descending\n",
    "popItems = pd.DataFrame({'Purchase Count':itemCountbyID,'Item Price':itemPrice,\n",
    "                         'Total Purchase Value':itemTotal}).sort_values('Purchase Count',ascending=False)\n",
    "#Pull top 5 rows into dataframe for clean up and display\n",
    "topPopItems = popItems.iloc[:5]\n",
    "\n",
    "#Dataframe styling and fromatting\n",
    "topPopItems.style.format({'Item Price': \"${:.2f}\", 'Total Purchase Value': \"${:,.2f}\"})"
   ]
  },
  {
   "cell_type": "markdown",
   "metadata": {},
   "source": [
    "## Most Profitable Items"
   ]
  },
  {
   "cell_type": "markdown",
   "metadata": {},
   "source": [
    "* Sort the above table by total purchase value in descending order\n",
    "\n",
    "\n",
    "* Optional: give the displayed data cleaner formatting\n",
    "\n",
    "\n",
    "* Display a preview of the data frame\n",
    "\n"
   ]
  },
  {
   "cell_type": "code",
   "execution_count": 10,
   "metadata": {
    "scrolled": true
   },
   "outputs": [
    {
     "data": {
      "text/html": [
       "<style  type=\"text/css\" >\n",
       "</style><table id=\"T_149d296c_52d5_11eb_90fe_782b46ed7c85\" ><thead>    <tr>        <th class=\"blank\" ></th>        <th class=\"blank level0\" ></th>        <th class=\"col_heading level0 col0\" >Purchase Count</th>        <th class=\"col_heading level0 col1\" >Item Price</th>        <th class=\"col_heading level0 col2\" >Total Purchase Value</th>    </tr>    <tr>        <th class=\"index_name level0\" >Item ID</th>        <th class=\"index_name level1\" >Item Name</th>        <th class=\"blank\" ></th>        <th class=\"blank\" ></th>        <th class=\"blank\" ></th>    </tr></thead><tbody>\n",
       "                <tr>\n",
       "                        <th id=\"T_149d296c_52d5_11eb_90fe_782b46ed7c85level0_row0\" class=\"row_heading level0 row0\" >92</th>\n",
       "                        <th id=\"T_149d296c_52d5_11eb_90fe_782b46ed7c85level1_row0\" class=\"row_heading level1 row0\" >Final Critic</th>\n",
       "                        <td id=\"T_149d296c_52d5_11eb_90fe_782b46ed7c85row0_col0\" class=\"data row0 col0\" >13</td>\n",
       "                        <td id=\"T_149d296c_52d5_11eb_90fe_782b46ed7c85row0_col1\" class=\"data row0 col1\" >$4.61</td>\n",
       "                        <td id=\"T_149d296c_52d5_11eb_90fe_782b46ed7c85row0_col2\" class=\"data row0 col2\" >$59.99</td>\n",
       "            </tr>\n",
       "            <tr>\n",
       "                        <th id=\"T_149d296c_52d5_11eb_90fe_782b46ed7c85level0_row1\" class=\"row_heading level0 row1\" >178</th>\n",
       "                        <th id=\"T_149d296c_52d5_11eb_90fe_782b46ed7c85level1_row1\" class=\"row_heading level1 row1\" >Oathbreaker, Last Hope of the Breaking Storm</th>\n",
       "                        <td id=\"T_149d296c_52d5_11eb_90fe_782b46ed7c85row1_col0\" class=\"data row1 col0\" >12</td>\n",
       "                        <td id=\"T_149d296c_52d5_11eb_90fe_782b46ed7c85row1_col1\" class=\"data row1 col1\" >$4.23</td>\n",
       "                        <td id=\"T_149d296c_52d5_11eb_90fe_782b46ed7c85row1_col2\" class=\"data row1 col2\" >$50.76</td>\n",
       "            </tr>\n",
       "            <tr>\n",
       "                        <th id=\"T_149d296c_52d5_11eb_90fe_782b46ed7c85level0_row2\" class=\"row_heading level0 row2\" >82</th>\n",
       "                        <th id=\"T_149d296c_52d5_11eb_90fe_782b46ed7c85level1_row2\" class=\"row_heading level1 row2\" >Nirvana</th>\n",
       "                        <td id=\"T_149d296c_52d5_11eb_90fe_782b46ed7c85row2_col0\" class=\"data row2 col0\" >9</td>\n",
       "                        <td id=\"T_149d296c_52d5_11eb_90fe_782b46ed7c85row2_col1\" class=\"data row2 col1\" >$4.90</td>\n",
       "                        <td id=\"T_149d296c_52d5_11eb_90fe_782b46ed7c85row2_col2\" class=\"data row2 col2\" >$44.10</td>\n",
       "            </tr>\n",
       "            <tr>\n",
       "                        <th id=\"T_149d296c_52d5_11eb_90fe_782b46ed7c85level0_row3\" class=\"row_heading level0 row3\" >145</th>\n",
       "                        <th id=\"T_149d296c_52d5_11eb_90fe_782b46ed7c85level1_row3\" class=\"row_heading level1 row3\" >Fiery Glass Crusader</th>\n",
       "                        <td id=\"T_149d296c_52d5_11eb_90fe_782b46ed7c85row3_col0\" class=\"data row3 col0\" >9</td>\n",
       "                        <td id=\"T_149d296c_52d5_11eb_90fe_782b46ed7c85row3_col1\" class=\"data row3 col1\" >$4.58</td>\n",
       "                        <td id=\"T_149d296c_52d5_11eb_90fe_782b46ed7c85row3_col2\" class=\"data row3 col2\" >$41.22</td>\n",
       "            </tr>\n",
       "            <tr>\n",
       "                        <th id=\"T_149d296c_52d5_11eb_90fe_782b46ed7c85level0_row4\" class=\"row_heading level0 row4\" >103</th>\n",
       "                        <th id=\"T_149d296c_52d5_11eb_90fe_782b46ed7c85level1_row4\" class=\"row_heading level1 row4\" >Singed Scalpel</th>\n",
       "                        <td id=\"T_149d296c_52d5_11eb_90fe_782b46ed7c85row4_col0\" class=\"data row4 col0\" >8</td>\n",
       "                        <td id=\"T_149d296c_52d5_11eb_90fe_782b46ed7c85row4_col1\" class=\"data row4 col1\" >$4.35</td>\n",
       "                        <td id=\"T_149d296c_52d5_11eb_90fe_782b46ed7c85row4_col2\" class=\"data row4 col2\" >$34.80</td>\n",
       "            </tr>\n",
       "    </tbody></table>"
      ],
      "text/plain": [
       "<pandas.io.formats.style.Styler at 0x12760b88f10>"
      ]
     },
     "execution_count": 10,
     "metadata": {},
     "output_type": "execute_result"
    }
   ],
   "source": [
    "#Construct most popular items dataframe sorted on total purchase value descending\n",
    "profItems = pd.DataFrame({'Purchase Count':itemCountbyID,'Item Price':itemPrice,\n",
    "                         'Total Purchase Value':itemTotal}).sort_values('Total Purchase Value',\n",
    "                                                                        ascending=False)\n",
    "#Pull top 5 rows into dataframe for clean up and display\n",
    "topProfItems = profItems.iloc[:5]\n",
    "\n",
    "#Dataframe styling and fromatting\n",
    "topProfItems.style.format({'Item Price': \"${:.2f}\", 'Total Purchase Value': \"${:,.2f}\"})"
   ]
  },
  {
   "cell_type": "markdown",
   "metadata": {},
   "source": [
    "# Observable Trends"
   ]
  },
  {
   "cell_type": "markdown",
   "metadata": {},
   "source": [
    "* A majority of our players and subsequently revenue generation is from the 20-29 age demo\n",
    "    * Maintain general marketing level (age 20-29)\n",
    "    * Push popular items\n",
    "---\n",
    "---\n",
    "* Mid-Career professionals (age demo 35-39) are spending more per item\n",
    "    * Marketing growth target demographic (age 35-39)\n",
    "    * Push popular items\n",
    "---\n",
    "---\n",
    "* A majority of our players are male and thus the primary revenue generation demographic\n",
    "    * Maintain general marketing level (Male)\n",
    "    * Marketing growth target (Female Demographic) / Higher spend per item\n",
    "    * Push popular items"
   ]
  },
  {
   "cell_type": "code",
   "execution_count": null,
   "metadata": {},
   "outputs": [],
   "source": []
  }
 ],
 "metadata": {
  "anaconda-cloud": {},
  "kernel_info": {
   "name": "python3"
  },
  "kernelspec": {
   "display_name": "Python 3",
   "language": "python",
   "name": "python3"
  },
  "language_info": {
   "codemirror_mode": {
    "name": "ipython",
    "version": 3
   },
   "file_extension": ".py",
   "mimetype": "text/x-python",
   "name": "python",
   "nbconvert_exporter": "python",
   "pygments_lexer": "ipython3",
   "version": "3.8.3"
  },
  "latex_envs": {
   "LaTeX_envs_menu_present": true,
   "autoclose": false,
   "autocomplete": true,
   "bibliofile": "biblio.bib",
   "cite_by": "apalike",
   "current_citInitial": 1,
   "eqLabelWithNumbers": true,
   "eqNumInitial": 1,
   "hotkeys": {
    "equation": "Ctrl-E",
    "itemize": "Ctrl-I"
   },
   "labels_anchors": false,
   "latex_user_defs": false,
   "report_style_numbering": false,
   "user_envs_cfg": false
  },
  "nteract": {
   "version": "0.2.0"
  }
 },
 "nbformat": 4,
 "nbformat_minor": 2
}
